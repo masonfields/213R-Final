{
 "cells": [
  {
   "cell_type": "code",
   "execution_count": 27,
   "metadata": {
    "collapsed": true
   },
   "outputs": [],
   "source": [
    "import pandas as pd\n",
    "import numpy as np\n",
    "import scipy as sp\n",
    "import seaborn as sns\n",
    "import matplotlib.pyplot as plt\n",
    "from sklearn.linear_model import SGDRegressor\n",
    "from sklearn.metrics import mean_squared_error\n",
    "from sklearn.preprocessing import StandardScaler\n",
    "from sklearn.model_selection import train_test_split\n",
    "from sklearn.metrics import mean_squared_error\n",
    "from sklearn import linear_model\n",
    "from sklearn.model_selection import RandomizedSearchCV\n",
    "%matplotlib inline"
   ]
  },
  {
   "cell_type": "code",
   "execution_count": 29,
   "metadata": {},
   "outputs": [
    {
     "name": "stdout",
     "output_type": "stream",
     "text": [
      "   school sex  age address famsize Pstatus  Medu  Fedu      Mjob      Fjob  \\\n",
      "0      GP   F   18       U     GT3       A     4     4   at_home   teacher   \n",
      "1      GP   F   17       U     GT3       T     1     1   at_home     other   \n",
      "2      GP   F   15       U     LE3       T     1     1   at_home     other   \n",
      "3      GP   F   15       U     GT3       T     4     2    health  services   \n",
      "4      GP   F   16       U     GT3       T     3     3     other     other   \n",
      "5      GP   M   16       U     LE3       T     4     3  services     other   \n",
      "6      GP   M   16       U     LE3       T     2     2     other     other   \n",
      "7      GP   F   17       U     GT3       A     4     4     other   teacher   \n",
      "8      GP   M   15       U     LE3       A     3     2  services     other   \n",
      "9      GP   M   15       U     GT3       T     3     4     other     other   \n",
      "10     GP   F   15       U     GT3       T     4     4   teacher    health   \n",
      "11     GP   F   15       U     GT3       T     2     1  services     other   \n",
      "12     GP   M   15       U     LE3       T     4     4    health  services   \n",
      "13     GP   M   15       U     GT3       T     4     3   teacher     other   \n",
      "14     GP   M   15       U     GT3       A     2     2     other     other   \n",
      "15     GP   F   16       U     GT3       T     4     4    health     other   \n",
      "16     GP   F   16       U     GT3       T     4     4  services  services   \n",
      "17     GP   F   16       U     GT3       T     3     3     other     other   \n",
      "18     GP   M   17       U     GT3       T     3     2  services  services   \n",
      "19     GP   M   16       U     LE3       T     4     3    health     other   \n",
      "20     GP   M   15       U     GT3       T     4     3   teacher     other   \n",
      "21     GP   M   15       U     GT3       T     4     4    health    health   \n",
      "22     GP   M   16       U     LE3       T     4     2   teacher     other   \n",
      "23     GP   M   16       U     LE3       T     2     2     other     other   \n",
      "24     GP   F   15       R     GT3       T     2     4  services    health   \n",
      "25     GP   F   16       U     GT3       T     2     2  services  services   \n",
      "26     GP   M   15       U     GT3       T     2     2     other     other   \n",
      "27     GP   M   15       U     GT3       T     4     2    health  services   \n",
      "28     GP   M   16       U     LE3       A     3     4  services     other   \n",
      "29     GP   M   16       U     GT3       T     4     4   teacher   teacher   \n",
      "30     GP   M   15       U     GT3       T     4     4    health  services   \n",
      "31     GP   M   15       U     GT3       T     4     4  services  services   \n",
      "32     GP   M   15       R     GT3       T     4     3   teacher   at_home   \n",
      "33     GP   M   15       U     LE3       T     3     3     other     other   \n",
      "34     GP   M   16       U     GT3       T     3     2     other     other   \n",
      "35     GP   F   15       U     GT3       T     2     3     other     other   \n",
      "36     GP   M   15       U     LE3       T     4     3   teacher  services   \n",
      "37     GP   M   16       R     GT3       A     4     4     other   teacher   \n",
      "38     GP   F   15       R     GT3       T     3     4  services    health   \n",
      "39     GP   F   15       R     GT3       T     2     2   at_home     other   \n",
      "40     GP   F   16       U     LE3       T     2     2     other     other   \n",
      "41     GP   M   15       U     LE3       T     4     4   teacher     other   \n",
      "42     GP   M   15       U     GT3       T     4     4  services   teacher   \n",
      "43     GP   M   15       U     GT3       T     2     2  services  services   \n",
      "44     GP   F   16       U     LE3       T     2     2     other   at_home   \n",
      "45     GP   F   15       U     LE3       A     4     3     other     other   \n",
      "46     GP   F   16       U     LE3       A     3     3     other  services   \n",
      "47     GP   M   16       U     GT3       T     4     3    health  services   \n",
      "48     GP   M   15       U     GT3       T     4     2   teacher     other   \n",
      "49     GP   F   15       U     GT3       T     4     4  services   teacher   \n",
      "\n",
      "   ... famrel freetime  goout  Dalc  Walc health absences  G1  G2  G3  \n",
      "0  ...      4        3      4     1     1      3        4   0  11  11  \n",
      "1  ...      5        3      3     1     1      3        2   9  11  11  \n",
      "2  ...      4        3      2     2     3      3        6  12  13  12  \n",
      "3  ...      3        2      2     1     1      5        0  14  14  14  \n",
      "4  ...      4        3      2     1     2      5        0  11  13  13  \n",
      "5  ...      5        4      2     1     2      5        6  12  12  13  \n",
      "6  ...      4        4      4     1     1      3        0  13  12  13  \n",
      "7  ...      4        1      4     1     1      1        2  10  13  13  \n",
      "8  ...      4        2      2     1     1      1        0  15  16  17  \n",
      "9  ...      5        5      1     1     1      5        0  12  12  13  \n",
      "10 ...      3        3      3     1     2      2        2  14  14  14  \n",
      "11 ...      5        2      2     1     1      4        0  10  12  13  \n",
      "12 ...      4        3      3     1     3      5        0  12  13  12  \n",
      "13 ...      5        4      3     1     2      3        0  12  12  13  \n",
      "14 ...      4        5      2     1     1      3        0  14  14  15  \n",
      "15 ...      4        4      4     1     2      2        6  17  17  17  \n",
      "16 ...      3        2      3     1     2      2       10  13  13  14  \n",
      "17 ...      5        3      2     1     1      4        2  13  14  14  \n",
      "18 ...      5        5      5     2     4      5        2   8   8   7  \n",
      "19 ...      3        1      3     1     3      5        6  12  12  12  \n",
      "20 ...      4        4      1     1     1      1        0  12  13  14  \n",
      "21 ...      5        4      2     1     1      5        0  11  12  12  \n",
      "22 ...      4        5      1     1     3      5        0  12  13  14  \n",
      "23 ...      5        4      4     2     4      5        2  10  10  10  \n",
      "24 ...      4        3      2     1     1      5        2  10  11  10  \n",
      "25 ...      1        2      2     1     3      5        6  10  11  12  \n",
      "26 ...      4        2      2     1     2      5        8  11  12  12  \n",
      "27 ...      2        2      4     2     4      1        0  11  11  11  \n",
      "28 ...      5        3      3     1     1      5        2  12  12  13  \n",
      "29 ...      4        4      5     5     5      5        4  12  11  12  \n",
      "30 ...      5        4      2     3     4      5        0  10  11  11  \n",
      "31 ...      4        3      1     1     1      5        2  15  15  15  \n",
      "32 ...      4        5      2     1     1      5        0  13  14  15  \n",
      "33 ...      5        3      2     1     1      2        0  13  12  12  \n",
      "34 ...      5        4      3     1     1      5        4  12  12  12  \n",
      "35 ...      3        5      1     1     1      5        4  11  11  11  \n",
      "36 ...      5        4      3     1     1      4        0  14  14  14  \n",
      "37 ...      2        4      3     1     1      5        4  13  13  13  \n",
      "38 ...      4        3      2     1     1      5        2  11  12  12  \n",
      "39 ...      4        3      1     1     1      2        8  14  13  12  \n",
      "40 ...      3        3      3     1     2      3       16  11  11  10  \n",
      "41 ...      5        4      3     2     4      5        8  10  11  11  \n",
      "42 ...      4        3      3     1     1      5        0  14  15  15  \n",
      "43 ...      5        4      1     1     1      1        0   9  10  10  \n",
      "44 ...      4        3      3     2     2      5       14  10  11  11  \n",
      "45 ...      5        2      2     1     1      5        4  10  11  11  \n",
      "46 ...      2        3      5     1     4      3        6  13  12  13  \n",
      "47 ...      4        2      2     1     1      2        2  17  17  17  \n",
      "48 ...      4        3      3     2     2      5        4  11  12  13  \n",
      "49 ...      4        4      4     1     1      3        2  13  12  12  \n",
      "\n",
      "[50 rows x 33 columns]\n"
     ]
    }
   ],
   "source": [
    "scores=pd.read_csv(\"C:\\\\Users\\\\Mason\\\\Desktop\\\\port.csv\", sep=';' )\n",
    "print(scores.head(50))"
   ]
  },
  {
   "cell_type": "code",
   "execution_count": 13,
   "metadata": {},
   "outputs": [],
   "source": [
    "target=scores.G3"
   ]
  },
  {
   "cell_type": "code",
   "execution_count": 18,
   "metadata": {},
   "outputs": [
    {
     "data": {
      "text/plain": [
       "school        0\n",
       "sex           0\n",
       "age           0\n",
       "address       0\n",
       "famsize       0\n",
       "Pstatus       0\n",
       "Medu          0\n",
       "Fedu          0\n",
       "Mjob          0\n",
       "Fjob          0\n",
       "reason        0\n",
       "guardian      0\n",
       "traveltime    0\n",
       "studytime     0\n",
       "failures      0\n",
       "schoolsup     0\n",
       "famsup        0\n",
       "paid          0\n",
       "activities    0\n",
       "nursery       0\n",
       "higher        0\n",
       "internet      0\n",
       "romantic      0\n",
       "famrel        0\n",
       "freetime      0\n",
       "goout         0\n",
       "Dalc          0\n",
       "Walc          0\n",
       "health        0\n",
       "absences      0\n",
       "dtype: int64"
      ]
     },
     "execution_count": 18,
     "metadata": {},
     "output_type": "execute_result"
    }
   ],
   "source": [
    "data=scores.drop(['G1','G2', 'G3'], axis=1)\n",
    "data.isnull().sum()"
   ]
  },
  {
   "cell_type": "code",
   "execution_count": 19,
   "metadata": {
    "collapsed": true
   },
   "outputs": [],
   "source": [
    "numbers=data.select_dtypes(include=[np.number])"
   ]
  },
  {
   "cell_type": "code",
   "execution_count": 20,
   "metadata": {
    "collapsed": true
   },
   "outputs": [],
   "source": [
    "X_train, X_test, Y_train, Y_test = train_test_split(numbers,target, random_state=42, test_size=.33)"
   ]
  },
  {
   "cell_type": "code",
   "execution_count": 21,
   "metadata": {},
   "outputs": [
    {
     "name": "stdout",
     "output_type": "stream",
     "text": [
      "RMSE is: \n",
      " 8.00678611244\n"
     ]
    }
   ],
   "source": [
    "lr=linear_model.LinearRegression()\n",
    "model=lr.fit(X_train, Y_train)\n",
    "predictions=model.predict(X_test)\n",
    "print('RMSE is: \\n', mean_squared_error(Y_test, predictions))"
   ]
  },
  {
   "cell_type": "code",
   "execution_count": 33,
   "metadata": {},
   "outputs": [
    {
     "ename": "AttributeError",
     "evalue": "module 'matplotlib.pyplot' has no attribute 'data'",
     "output_type": "error",
     "traceback": [
      "\u001b[1;31m---------------------------------------------------------------------------\u001b[0m",
      "\u001b[1;31mAttributeError\u001b[0m                            Traceback (most recent call last)",
      "\u001b[1;32m<ipython-input-33-82e114d2ee26>\u001b[0m in \u001b[0;36m<module>\u001b[1;34m()\u001b[0m\n\u001b[1;32m----> 1\u001b[1;33m \u001b[0mplt\u001b[0m\u001b[1;33m.\u001b[0m\u001b[0mdata\u001b[0m\u001b[1;33m.\u001b[0m\u001b[0mG3\u001b[0m\u001b[1;33m\u001b[0m\u001b[0m\n\u001b[0m",
      "\u001b[1;31mAttributeError\u001b[0m: module 'matplotlib.pyplot' has no attribute 'data'"
     ]
    }
   ],
   "source": [
    "plt.()"
   ]
  },
  {
   "cell_type": "code",
   "execution_count": 23,
   "metadata": {},
   "outputs": [
    {
     "name": "stdout",
     "output_type": "stream",
     "text": [
      "G3            1.000000\n",
      "G2            0.918548\n",
      "G1            0.826387\n",
      "studytime     0.249789\n",
      "Medu          0.240151\n",
      "Fedu          0.211800\n",
      "famrel        0.063361\n",
      "goout        -0.087641\n",
      "absences     -0.091379\n",
      "health       -0.098851\n",
      "age          -0.106505\n",
      "freetime     -0.122705\n",
      "traveltime   -0.127173\n",
      "Walc         -0.176619\n",
      "Dalc         -0.204719\n",
      "failures     -0.393316\n",
      "Name: G3, dtype: float64\n"
     ]
    }
   ],
   "source": [
    "corr=scores.corr()\n",
    "corr.sort_values([\"G3\"], ascending=False, inplace=True)\n",
    "print(corr.G3)"
   ]
  },
  {
   "cell_type": "code",
   "execution_count": null,
   "metadata": {
    "collapsed": true
   },
   "outputs": [],
   "source": []
  }
 ],
 "metadata": {
  "kernelspec": {
   "display_name": "Python 3",
   "language": "python",
   "name": "python3"
  },
  "language_info": {
   "codemirror_mode": {
    "name": "ipython",
    "version": 3
   },
   "file_extension": ".py",
   "mimetype": "text/x-python",
   "name": "python",
   "nbconvert_exporter": "python",
   "pygments_lexer": "ipython3",
   "version": "3.6.3"
  }
 },
 "nbformat": 4,
 "nbformat_minor": 2
}
